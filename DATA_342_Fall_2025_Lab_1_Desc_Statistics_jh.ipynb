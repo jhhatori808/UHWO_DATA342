{
  "nbformat": 4,
  "nbformat_minor": 0,
  "metadata": {
    "colab": {
      "provenance": [],
      "authorship_tag": "ABX9TyPpauMkRdbRIxyHSJ0As/9U",
      "include_colab_link": true
    },
    "kernelspec": {
      "name": "python3",
      "display_name": "Python 3"
    },
    "language_info": {
      "name": "python"
    }
  },
  "cells": [
    {
      "cell_type": "markdown",
      "metadata": {
        "id": "view-in-github",
        "colab_type": "text"
      },
      "source": [
        "<a href=\"https://colab.research.google.com/github/jhhatori808/UHWO_DATA342/blob/main/DATA_342_Fall_2025_Lab_1_Desc_Statistics_jh.ipynb\" target=\"_parent\"><img src=\"https://colab.research.google.com/assets/colab-badge.svg\" alt=\"Open In Colab\"/></a>"
      ]
    },
    {
      "cell_type": "markdown",
      "source": [
        "**Lab 1**: Using Descriptive Statistics to Evaluate Daily Returns between First Hawaiian Bank and Bank of Hawaii"
      ],
      "metadata": {
        "id": "QMpXGj8Ry0tY"
      }
    },
    {
      "cell_type": "markdown",
      "source": [
        "Step 1: Mount Google Drive"
      ],
      "metadata": {
        "id": "aw3S9nHdzCi5"
      }
    },
    {
      "cell_type": "code",
      "execution_count": 2,
      "metadata": {
        "colab": {
          "base_uri": "https://localhost:8080/"
        },
        "id": "4DIuU0BGyKXJ",
        "outputId": "1f018324-b56e-4e95-9fa7-22e92fc3e8c9"
      },
      "outputs": [
        {
          "output_type": "stream",
          "name": "stdout",
          "text": [
            "Mounted at /content/drive\n"
          ]
        }
      ],
      "source": [
        "from google.colab import drive\n",
        "drive.mount('/content/drive')"
      ]
    },
    {
      "cell_type": "markdown",
      "source": [
        "Step 2: Install Required Libraries"
      ],
      "metadata": {
        "id": "AhVDGFMB2Rq6"
      }
    },
    {
      "cell_type": "code",
      "source": [
        "!pip install openpyxl matplotlib pandas"
      ],
      "metadata": {
        "colab": {
          "base_uri": "https://localhost:8080/"
        },
        "id": "mJYPGEeV2WUG",
        "outputId": "a96d3574-689f-4273-8abf-c5a72ea9fe65"
      },
      "execution_count": 5,
      "outputs": [
        {
          "output_type": "stream",
          "name": "stdout",
          "text": [
            "Requirement already satisfied: openpyxl in /usr/local/lib/python3.12/dist-packages (3.1.5)\n",
            "Requirement already satisfied: matplotlib in /usr/local/lib/python3.12/dist-packages (3.10.0)\n",
            "Requirement already satisfied: pandas in /usr/local/lib/python3.12/dist-packages (2.2.2)\n",
            "Requirement already satisfied: et-xmlfile in /usr/local/lib/python3.12/dist-packages (from openpyxl) (2.0.0)\n",
            "Requirement already satisfied: contourpy>=1.0.1 in /usr/local/lib/python3.12/dist-packages (from matplotlib) (1.3.3)\n",
            "Requirement already satisfied: cycler>=0.10 in /usr/local/lib/python3.12/dist-packages (from matplotlib) (0.12.1)\n",
            "Requirement already satisfied: fonttools>=4.22.0 in /usr/local/lib/python3.12/dist-packages (from matplotlib) (4.60.1)\n",
            "Requirement already satisfied: kiwisolver>=1.3.1 in /usr/local/lib/python3.12/dist-packages (from matplotlib) (1.4.9)\n",
            "Requirement already satisfied: numpy>=1.23 in /usr/local/lib/python3.12/dist-packages (from matplotlib) (2.0.2)\n",
            "Requirement already satisfied: packaging>=20.0 in /usr/local/lib/python3.12/dist-packages (from matplotlib) (25.0)\n",
            "Requirement already satisfied: pillow>=8 in /usr/local/lib/python3.12/dist-packages (from matplotlib) (11.3.0)\n",
            "Requirement already satisfied: pyparsing>=2.3.1 in /usr/local/lib/python3.12/dist-packages (from matplotlib) (3.2.5)\n",
            "Requirement already satisfied: python-dateutil>=2.7 in /usr/local/lib/python3.12/dist-packages (from matplotlib) (2.9.0.post0)\n",
            "Requirement already satisfied: pytz>=2020.1 in /usr/local/lib/python3.12/dist-packages (from pandas) (2025.2)\n",
            "Requirement already satisfied: tzdata>=2022.7 in /usr/local/lib/python3.12/dist-packages (from pandas) (2025.2)\n",
            "Requirement already satisfied: six>=1.5 in /usr/local/lib/python3.12/dist-packages (from python-dateutil>=2.7->matplotlib) (1.17.0)\n"
          ]
        }
      ]
    },
    {
      "cell_type": "markdown",
      "source": [
        "Step 3: Import Libraries"
      ],
      "metadata": {
        "id": "s97mcN852sVO"
      }
    },
    {
      "cell_type": "code",
      "source": [
        "import pandas as pd\n",
        "import matplotlib.pyplot as plt"
      ],
      "metadata": {
        "id": "O2ZaNvKt2xmd"
      },
      "execution_count": 6,
      "outputs": []
    },
    {
      "cell_type": "markdown",
      "source": [
        "Step 4: Load the Excel File"
      ],
      "metadata": {
        "id": "pHpwgg3924uL"
      }
    },
    {
      "cell_type": "code",
      "source": [
        "import requests\n",
        "import pandas as pd\n",
        "\n",
        "file_id = '12HEJ-3ti7wmWaDsh6kD8hoW_0fhJ7xox'\n",
        "url = f'https://docs.google.com/spreadsheets/d/{file_id}/export?format=xlsx'\n",
        "response = requests.get(url)\n",
        "\n",
        "if response.status_code == 200:\n",
        "    with open('DATA_342_FALL_2025_Lab_1.xlsx', 'wb') as f:\n",
        "        f.write(response.content)\n",
        "    df = pd.read_excel('DATA_342_FALL_2025_Lab_1.xlsx', sheet_name='Daily Returns 2024', engine='openpyxl')\n",
        "else:\n",
        "    print(f\"Error downloading file: {response.status_code}\")"
      ],
      "metadata": {
        "id": "O9Rczoun2846"
      },
      "execution_count": 9,
      "outputs": []
    },
    {
      "cell_type": "markdown",
      "source": [
        "Step 5: Display Sample Rows"
      ],
      "metadata": {
        "id": "c4-cBjnx43hU"
      }
    },
    {
      "cell_type": "code",
      "source": [
        "print(\"Sample rows from the dataset:\")\n",
        "print(df.head())"
      ],
      "metadata": {
        "colab": {
          "base_uri": "https://localhost:8080/"
        },
        "id": "JHzuoMam47o6",
        "outputId": "c195277b-08ec-492d-d590-5b277e89d1c5"
      },
      "execution_count": 10,
      "outputs": [
        {
          "output_type": "stream",
          "name": "stdout",
          "text": [
            "Sample rows from the dataset:\n",
            "        Date Ticker  Adj Close   Daily Return\n",
            "0 2024-01-02    FHB       21.07           NaN\n",
            "1 2024-01-03    FHB       20.51     -0.026578\n",
            "2 2024-01-04    FHB       20.66      0.007314\n",
            "3 2024-01-05    FHB       20.49     -0.008228\n",
            "4 2024-01-08    FHB       20.60      0.005368\n"
          ]
        }
      ]
    },
    {
      "cell_type": "markdown",
      "source": [
        "Step 6: Clean and Format the Data"
      ],
      "metadata": {
        "id": "n6RFm6md5D7Q"
      }
    },
    {
      "cell_type": "code",
      "source": [
        "df['Date'] = pd.to_datetime(df['Date'])\n",
        "df = df.dropna(subset=['Daily Return'])   # Remove rows with missing returns"
      ],
      "metadata": {
        "id": "szKmR6_J5G-1"
      },
      "execution_count": 11,
      "outputs": []
    },
    {
      "cell_type": "markdown",
      "source": [
        "Step 7: Separate FHB and BOH Data"
      ],
      "metadata": {
        "id": "qn4loTb_5YAh"
      }
    },
    {
      "cell_type": "code",
      "source": [
        "fhb_df = df[df['Ticker'] == 'FHB'].copy()\n",
        "boh_df = df[df['Ticker'] == 'BOH'].copy()"
      ],
      "metadata": {
        "id": "MY0xeEqB5dwU"
      },
      "execution_count": 12,
      "outputs": []
    },
    {
      "cell_type": "markdown",
      "source": [
        "Step 8: Display Sample Rows"
      ],
      "metadata": {
        "id": "GC_Begoy50r4"
      }
    },
    {
      "cell_type": "code",
      "source": [
        "print(\"\\nFHB Daily Returns:\")\n",
        "print(fhb_df[['Date', 'Adj Close\\xa0', 'Daily Return']].head())\n",
        "\n",
        "print(\"\\nBOH Daily Returns:\")\n",
        "print(boh_df[['Date', 'Adj Close\\xa0', 'Daily Return']].head())"
      ],
      "metadata": {
        "colab": {
          "base_uri": "https://localhost:8080/"
        },
        "id": "XFV_HMqV54Uk",
        "outputId": "e98fcd93-1cab-431f-f9af-cfdc65116e41"
      },
      "execution_count": 13,
      "outputs": [
        {
          "output_type": "stream",
          "name": "stdout",
          "text": [
            "\n",
            "FHB Daily Returns:\n",
            "        Date  Adj Close   Daily Return\n",
            "1 2024-01-03       20.51     -0.026578\n",
            "2 2024-01-04       20.66      0.007314\n",
            "3 2024-01-05       20.49     -0.008228\n",
            "4 2024-01-08       20.60      0.005368\n",
            "5 2024-01-09       20.34     -0.012621\n",
            "\n",
            "BOH Daily Returns:\n",
            "          Date  Adj Close   Daily Return\n",
            "251 2024-01-02       66.76      1.657643\n",
            "252 2024-01-03       64.24     -0.037747\n",
            "253 2024-01-04       64.26      0.000311\n",
            "254 2024-01-05       64.81      0.008559\n",
            "255 2024-01-08       64.75     -0.000926\n"
          ]
        }
      ]
    },
    {
      "cell_type": "markdown",
      "source": [
        "Step 9: Visualize Daily Returns with Box and Whisker Plots"
      ],
      "metadata": {
        "id": "oS0mWO5r6WaP"
      }
    },
    {
      "cell_type": "code",
      "source": [
        "plt.figure(figsize=(10, 6))\n",
        "plt.boxplot([fhb_df['Daily Return'], boh_df['Daily Return']], labels=['FHB', 'BOH'])\n",
        "plt.title('Box-and-Whisker Plot of Daily Returns')\n",
        "plt.ylabel('Daily Return')\n",
        "plt.grid(True)\n",
        "plt.show()"
      ],
      "metadata": {
        "colab": {
          "base_uri": "https://localhost:8080/",
          "height": 580
        },
        "id": "g58O27c06bm9",
        "outputId": "990c5d15-8da9-4d5c-fff0-9a40758c2354"
      },
      "execution_count": 14,
      "outputs": [
        {
          "output_type": "stream",
          "name": "stderr",
          "text": [
            "/tmp/ipython-input-3194601794.py:2: MatplotlibDeprecationWarning: The 'labels' parameter of boxplot() has been renamed 'tick_labels' since Matplotlib 3.9; support for the old name will be dropped in 3.11.\n",
            "  plt.boxplot([fhb_df['Daily Return'], boh_df['Daily Return']], labels=['FHB', 'BOH'])\n"
          ]
        },
        {
          "output_type": "display_data",
          "data": {
            "text/plain": [
              "<Figure size 1000x600 with 1 Axes>"
            ],
            "image/png": "[encoded data removed]"
          },
          "metadata": {}
        }
      ]
    }
  ]
}